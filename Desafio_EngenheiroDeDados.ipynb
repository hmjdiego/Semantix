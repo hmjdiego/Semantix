{
 "cells": [
  {
   "cell_type": "code",
   "execution_count": 106,
   "metadata": {},
   "outputs": [],
   "source": [
    "#IMPORTANDO OS MÓDULOS\n",
    "import pyspark.sql.functions as f\n",
    "from pyspark.sql import SparkSession\n",
    "from pyspark.sql.types import DecimalType\n",
    "spark = SparkSession.builder.master(\"local[*]\").getOrCreate()"
   ]
  },
  {
   "cell_type": "code",
   "execution_count": 107,
   "metadata": {},
   "outputs": [],
   "source": [
    "#LENDO O DATASET DE JULHO\n",
    "\n",
    "dfJul = spark.read\\\n",
    "    .format(\"com.databricks.spark.csv\")\\\n",
    "    .option(\"header\", \"false\") \\\n",
    "    .option(\"delimiter\", \" \") \\\n",
    "    .option(\"inferSchema\", \"true\") \\\n",
    "    .load(\"C:/Users/Diego/NASA_access_log_Jul95\")"
   ]
  },
  {
   "cell_type": "code",
   "execution_count": 108,
   "metadata": {},
   "outputs": [],
   "source": [
    "#LENDO O DATASET DE AGOSTO\n",
    "\n",
    "dfAug = spark.read\\\n",
    "    .format(\"com.databricks.spark.csv\")\\\n",
    "    .option(\"header\", \"false\") \\\n",
    "    .option(\"delimiter\", \" \") \\\n",
    "    .option(\"inferSchema\", \"true\") \\\n",
    "    .load(\"C:/Users/Diego/NASA_access_log_Aug95\")"
   ]
  },
  {
   "cell_type": "code",
   "execution_count": 109,
   "metadata": {},
   "outputs": [
    {
     "name": "stdout",
     "output_type": "stream",
     "text": [
      "+--------------------+---+---+--------------------+------+--------------------+---+----+\n",
      "|                 _c0|_c1|_c2|                 _c3|   _c4|                 _c5|_c6| _c7|\n",
      "+--------------------+---+---+--------------------+------+--------------------+---+----+\n",
      "|        199.72.81.55|  -|  -|[01/Jul/1995:00:0...|-0400]|GET /history/apol...|200|6245|\n",
      "|unicomp6.unicomp.net|  -|  -|[01/Jul/1995:00:0...|-0400]|GET /shuttle/coun...|200|3985|\n",
      "|      199.120.110.21|  -|  -|[01/Jul/1995:00:0...|-0400]|GET /shuttle/miss...|200|4085|\n",
      "|  burger.letters.com|  -|  -|[01/Jul/1995:00:0...|-0400]|GET /shuttle/coun...|304|   0|\n",
      "|      199.120.110.21|  -|  -|[01/Jul/1995:00:0...|-0400]|GET /shuttle/miss...|200|4179|\n",
      "|  burger.letters.com|  -|  -|[01/Jul/1995:00:0...|-0400]|GET /images/NASA-...|304|   0|\n",
      "|  burger.letters.com|  -|  -|[01/Jul/1995:00:0...|-0400]|GET /shuttle/coun...|200|   0|\n",
      "+--------------------+---+---+--------------------+------+--------------------+---+----+\n",
      "only showing top 7 rows\n",
      "\n"
     ]
    }
   ],
   "source": [
    "#JUNTANDO OS DATASETS\n",
    "\n",
    "df = dfJul.union(dfAug)\n",
    "\n",
    "df.show(7)"
   ]
  },
  {
   "cell_type": "code",
   "execution_count": 110,
   "metadata": {},
   "outputs": [
    {
     "name": "stdout",
     "output_type": "stream",
     "text": [
      "+--------------------+-----------+----+----+\n",
      "|                host|       date|code|size|\n",
      "+--------------------+-----------+----+----+\n",
      "|        199.72.81.55|01/Jul/1995| 200|6245|\n",
      "|unicomp6.unicomp.net|01/Jul/1995| 200|3985|\n",
      "|      199.120.110.21|01/Jul/1995| 200|4085|\n",
      "|  burger.letters.com|01/Jul/1995| 304|   0|\n",
      "|      199.120.110.21|01/Jul/1995| 200|4179|\n",
      "|  burger.letters.com|01/Jul/1995| 304|   0|\n",
      "|  burger.letters.com|01/Jul/1995| 200|   0|\n",
      "+--------------------+-----------+----+----+\n",
      "only showing top 7 rows\n",
      "\n"
     ]
    }
   ],
   "source": [
    "#SEPARAÇÃO E TRATAMENTO DOS DADOS\n",
    "\n",
    "split_col = f.split(df['_c3'], ':')\n",
    "df = df.withColumn('_c3', split_col.getItem(0))\n",
    "\n",
    "df = df.withColumn('_c3', df['_c3'].substr(2, 11))\n",
    "\n",
    "df = df.selectExpr('_c0 as host', '_c3 as date', '_c6 as code', '_c7 as size')\n",
    "\n",
    "df.show(7)"
   ]
  },
  {
   "cell_type": "code",
   "execution_count": 111,
   "metadata": {},
   "outputs": [
    {
     "data": {
      "text/plain": [
       "137979"
      ]
     },
     "execution_count": 111,
     "metadata": {},
     "output_type": "execute_result"
    }
   ],
   "source": [
    "#CONTAGEM DOS HOST'S UNICOS = 137979\n",
    "\n",
    "df.select('host').distinct().count()"
   ]
  },
  {
   "cell_type": "code",
   "execution_count": 112,
   "metadata": {},
   "outputs": [
    {
     "data": {
      "text/plain": [
       "20871"
      ]
     },
     "execution_count": 112,
     "metadata": {},
     "output_type": "execute_result"
    }
   ],
   "source": [
    "#TOTAL DE ERROS 404 = 20871\n",
    "\n",
    "df.where(df['code'] == \"404\").count()"
   ]
  },
  {
   "cell_type": "code",
   "execution_count": 113,
   "metadata": {},
   "outputs": [
    {
     "name": "stdout",
     "output_type": "stream",
     "text": [
      "+--------------------+-----+\n",
      "|                host|count|\n",
      "+--------------------+-----+\n",
      "|hoohoo.ncsa.uiuc.edu|  251|\n",
      "|piweba3y.prodigy.com|  156|\n",
      "|jbiagioni.npt.nuw...|  132|\n",
      "|piweba1y.prodigy.com|  114|\n",
      "|www-d4.proxy.aol.com|   91|\n",
      "+--------------------+-----+\n",
      "only showing top 5 rows\n",
      "\n",
      "+-----------+-----+\n",
      "|       date|count|\n",
      "+-----------+-----+\n",
      "|01/Aug/1995|  243|\n",
      "|01/Jul/1995|  316|\n",
      "|02/Jul/1995|  291|\n",
      "|03/Aug/1995|  303|\n",
      "|03/Jul/1995|  470|\n",
      "|04/Aug/1995|  346|\n",
      "|04/Jul/1995|  359|\n",
      "|05/Aug/1995|  236|\n",
      "|05/Jul/1995|  497|\n",
      "|06/Aug/1995|  373|\n",
      "|06/Jul/1995|  640|\n",
      "|07/Aug/1995|  537|\n",
      "|07/Jul/1995|  569|\n",
      "|08/Aug/1995|  390|\n",
      "|08/Jul/1995|  302|\n",
      "|09/Aug/1995|  279|\n",
      "|09/Jul/1995|  348|\n",
      "|10/Aug/1995|  306|\n",
      "|10/Jul/1995|  398|\n",
      "|11/Aug/1995|  263|\n",
      "+-----------+-----+\n",
      "only showing top 20 rows\n",
      "\n"
     ]
    }
   ],
   "source": [
    "#5 URL QUE MAIS CAUSARAM ERROS\n",
    "#|hoohoo.ncsa.uiuc.edu\n",
    "#|piweba3y.prodigy.com\n",
    "#|jbiagioni.npt.nuw...\n",
    "#|piweba1y.prodigy.com\n",
    "#|www-d4.proxy.aol.com\n",
    "\n",
    "df.where(df['code'] == \"404\").groupBy(\"host\").count().orderBy(\"count\", ascending=False).show(5)\n",
    "df.where(df['code'] == \"404\").groupBy(\"date\").count().orderBy(\"date\", ascending=True).show()"
   ]
  },
  {
   "cell_type": "code",
   "execution_count": 114,
   "metadata": {},
   "outputs": [
    {
     "name": "stdout",
     "output_type": "stream",
     "text": [
      "+-----------+\n",
      "|  sum(size)|\n",
      "+-----------+\n",
      "|65524319796|\n",
      "+-----------+\n",
      "\n"
     ]
    },
    {
     "data": {
      "text/plain": [
       "1569898"
      ]
     },
     "execution_count": 114,
     "metadata": {},
     "output_type": "execute_result"
    }
   ],
   "source": [
    "#TOTAL DE BYTES RETORNADOS =65524319796\n",
    "\n",
    "total = df.groupBy().agg(f.sum('size'))\n",
    "total.withColumn('sum(size)', total['sum(size)'].cast(DecimalType(18, 0))).show()\n",
    "\n",
    "dfJul.count()\n",
    "\n",
    "dfAug.count()"
   ]
  },
  {
   "cell_type": "code",
   "execution_count": null,
   "metadata": {},
   "outputs": [],
   "source": []
  }
 ],
 "metadata": {
  "kernelspec": {
   "display_name": "Python 3",
   "language": "python",
   "name": "python3"
  },
  "language_info": {
   "codemirror_mode": {
    "name": "ipython",
    "version": 3
   },
   "file_extension": ".py",
   "mimetype": "text/x-python",
   "name": "python",
   "nbconvert_exporter": "python",
   "pygments_lexer": "ipython3",
   "version": "3.7.6"
  }
 },
 "nbformat": 4,
 "nbformat_minor": 4
}
